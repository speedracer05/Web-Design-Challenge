{
 "cells": [
  {
   "cell_type": "code",
   "execution_count": 1,
   "source": [
    "import pandas as pd\r\n",
    "import os"
   ],
   "outputs": [],
   "metadata": {}
  },
  {
   "cell_type": "code",
   "execution_count": 2,
   "source": [
    "# set dataset path\r\n",
    "cities_file = \"../Resources/cities.csv\"\r\n",
    "# load dataset, set encoding to latin1 and set index to City_ID\r\n",
    "cities_df = pd.read_csv(cities_file, encoding=\"latin1\", index_col=\"City_ID\")\r\n",
    "# cities_df.head()"
   ],
   "outputs": [],
   "metadata": {}
  },
  {
   "cell_type": "code",
   "execution_count": 3,
   "source": [
    "# reset dataframe index back to default interger  don't insert the index into df columns\r\n",
    "cities_df.reset_index(inplace=True, drop=True)\r\n",
    "\r\n",
    "# drop rows containing special characters\r\n",
    "cities_drop = cities_df.drop(cities_df[cities_df.City.str.contains(r'[^0-9a-zA-Z]')].index)"
   ],
   "outputs": [],
   "metadata": {}
  },
  {
   "cell_type": "code",
   "execution_count": 6,
   "source": [
    "\r\n",
    "# render df into html\r\n",
    "cities_drop.to_html(\"../table.html\")"
   ],
   "outputs": [],
   "metadata": {}
  },
  {
   "cell_type": "code",
   "execution_count": null,
   "source": [
    "# output to text file\r\n",
    "cities_drop.to_csv(\"../Resources/cities_drop.csv\")"
   ],
   "outputs": [],
   "metadata": {}
  }
 ],
 "metadata": {
  "kernelspec": {
   "name": "python3",
   "display_name": "Python 3.6.13 64-bit ('PythonData': conda)"
  },
  "language_info": {
   "codemirror_mode": {
    "name": "ipython",
    "version": 3
   },
   "file_extension": ".py",
   "mimetype": "text/x-python",
   "name": "python",
   "nbconvert_exporter": "python",
   "pygments_lexer": "ipython3",
   "version": "3.6.13"
  },
  "interpreter": {
   "hash": "9e69114408c56b3cc24c531fa9113201664748820a3bf7bfa51705a53f5a976b"
  }
 },
 "nbformat": 4,
 "nbformat_minor": 5
}